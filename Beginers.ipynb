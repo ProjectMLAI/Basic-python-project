{
 "cells": [
  {
   "cell_type": "markdown",
   "id": "134105b8",
   "metadata": {
    "ExecuteTime": {
     "end_time": "2025-02-16T11:51:27.197396Z",
     "start_time": "2025-02-16T11:51:27.186336Z"
    }
   },
   "source": [
    "### Acrnoym generator"
   ]
  },
  {
   "cell_type": "code",
   "execution_count": 22,
   "id": "b8a6f103",
   "metadata": {
    "ExecuteTime": {
     "end_time": "2025-02-16T14:04:18.377818Z",
     "start_time": "2025-02-16T14:04:15.319808Z"
    }
   },
   "outputs": [
    {
     "name": "stdout",
     "output_type": "stream",
     "text": [
      "Enter a phrase: arti inte\n",
      "['arti', 'inte']\n",
      "Acronym: AI\n"
     ]
    }
   ],
   "source": [
    "# Acronym Generator\n",
    "user_input = input(\"Enter a phrase: \")  # No need to use str(), input() is already a string\n",
    "words = user_input.split()  #.split() breaks the string at spaces and converts it into a list of words.\n",
    "print(words)\n",
    "acronym = \"\"  # Initialize an empty string to store the acronym\n",
    "\n",
    "for word in words: \n",
    "    acronym += word[0].upper()  # Append the first letter in uppercase\n",
    "print(\"Acronym:\", acronym)  # Print final acronym\n"
   ]
  },
  {
   "cell_type": "markdown",
   "id": "8a0859af",
   "metadata": {},
   "source": [
    "### Email Slicer with Python"
   ]
  },
  {
   "cell_type": "code",
   "execution_count": 4,
   "id": "49c4993b",
   "metadata": {
    "ExecuteTime": {
     "end_time": "2025-02-16T14:29:20.785951Z",
     "start_time": "2025-02-16T14:29:11.323240Z"
    }
   },
   "outputs": [
    {
     "name": "stdout",
     "output_type": "stream",
     "text": [
      "Enter Your Email: abhishek@gmail.com\n"
     ]
    }
   ],
   "source": [
    "email = input(\"Enter Your Email: \").strip()"
   ]
  },
  {
   "cell_type": "code",
   "execution_count": 2,
   "id": "763b19fd",
   "metadata": {
    "ExecuteTime": {
     "end_time": "2025-02-16T14:17:08.261970Z",
     "start_time": "2025-02-16T14:17:08.245016Z"
    }
   },
   "outputs": [
    {
     "name": "stdout",
     "output_type": "stream",
     "text": [
      "Hello, World!\n"
     ]
    }
   ],
   "source": [
    "text = \"   Hello, World!   \"\n",
    "clean_text = text.strip()\n",
    "\n",
    "print(clean_text)  # Output: \"Hello, World!\"\n",
    "~#.strip() is a string method in Python that removes any leading (beginning) and trailing (ending) spaces from a string."
   ]
  },
  {
   "cell_type": "code",
   "execution_count": null,
   "id": "792993de",
   "metadata": {},
   "outputs": [],
   "source": [
    "#.index() method in Python is used to find the position (index) of the first occurrence of a specified value in a string or a list."
   ]
  },
  {
   "cell_type": "code",
   "execution_count": 12,
   "id": "554ba18b",
   "metadata": {
    "ExecuteTime": {
     "end_time": "2025-02-16T14:35:42.243490Z",
     "start_time": "2025-02-16T14:35:42.225537Z"
    }
   },
   "outputs": [],
   "source": [
    "username = email[:email.index('@')]\n",
    "domain = email[email.index('@') + 1:]"
   ]
  },
  {
   "cell_type": "code",
   "execution_count": 13,
   "id": "12ec93a5",
   "metadata": {
    "ExecuteTime": {
     "end_time": "2025-02-16T14:35:43.873861Z",
     "start_time": "2025-02-16T14:35:43.860938Z"
    }
   },
   "outputs": [
    {
     "name": "stdout",
     "output_type": "stream",
     "text": [
      "abhishek\n",
      "gmail.com\n"
     ]
    }
   ],
   "source": [
    "print(username)\n",
    "print(domain)"
   ]
  },
  {
   "cell_type": "code",
   "execution_count": 14,
   "id": "c691f5bc",
   "metadata": {
    "ExecuteTime": {
     "end_time": "2025-02-16T14:35:45.483437Z",
     "start_time": "2025-02-16T14:35:45.469495Z"
    }
   },
   "outputs": [
    {
     "name": "stdout",
     "output_type": "stream",
     "text": [
      "Your user name is 'abhishek' and your domain is 'gmail.com'\n"
     ]
    }
   ],
   "source": [
    "print(f\"Your user name is '{username}' and your domain is '{domain}'\")\n"
   ]
  },
  {
   "cell_type": "markdown",
   "id": "757ac0c8",
   "metadata": {},
   "source": [
    "### Story Generator with Python"
   ]
  },
  {
   "cell_type": "code",
   "execution_count": 37,
   "id": "c62545a6",
   "metadata": {
    "ExecuteTime": {
     "end_time": "2025-02-16T14:37:14.968367Z",
     "start_time": "2025-02-16T14:37:14.955402Z"
    }
   },
   "outputs": [
    {
     "name": "stdout",
     "output_type": "stream",
     "text": [
      "Yesterday, an elephant that lived in India, went to the laundry and found a secret key\n"
     ]
    }
   ],
   "source": [
    "import random\n",
    "when = ['A few years ago', 'Yesterday', 'Last night', 'A long time ago','On 20th Jan']\n",
    "who = ['a rabbit', 'an elephant', 'a mouse', 'a turtle','a cat']\n",
    "name = ['Ali', 'Miriam','daniel', 'Hoouk', 'Starwalker']\n",
    "residence = ['Barcelona','India', 'Germany', 'Venice', 'England']\n",
    "went = ['cinema', 'university','seminar', 'school', 'laundry']\n",
    "happened = ['made a lot of friends','Eats a burger', 'found a secret key', 'solved a mistery', 'wrote a book']\n",
    "print(random.choice(when) + ', ' + random.choice(who) + ' that lived in ' + random.choice(residence) + ', went to the ' + random.choice(went) + ' and ' + random.choice(happened))"
   ]
  },
  {
   "cell_type": "markdown",
   "id": "dce7f01c",
   "metadata": {},
   "source": [
    "### password genetaor "
   ]
  },
  {
   "cell_type": "code",
   "execution_count": 38,
   "id": "0bd7981c",
   "metadata": {
    "ExecuteTime": {
     "end_time": "2025-02-16T14:38:10.202011Z",
     "start_time": "2025-02-16T14:38:07.216918Z"
    }
   },
   "outputs": [
    {
     "name": "stdout",
     "output_type": "stream",
     "text": [
      "enter the length of password8\n",
      "?&VB%poT\n"
     ]
    }
   ],
   "source": [
    "import random\n",
    "passlen = int(input(\"enter the length of password\"))\n",
    "s=\"abcdefghijklmnopqrstuvwxyz01234567890ABCDEFGHIJKLMNOPQRSTUVWXYZ!@#$%^&*()?\"\n",
    "p = \"\".join(random.sample(s,passlen ))\n",
    "print(p)"
   ]
  },
  {
   "cell_type": "markdown",
   "id": "8fc8fb83",
   "metadata": {},
   "source": [
    "### Rock papaer scissor "
   ]
  },
  {
   "cell_type": "code",
   "execution_count": null,
   "id": "c51a27f0",
   "metadata": {
    "ExecuteTime": {
     "start_time": "2025-02-18T11:35:28.426Z"
    }
   },
   "outputs": [],
   "source": [
    "import random\n",
    "\n",
    "choices = [\"Rock\", \"Paper\", \"Scissors\"]\n",
    "cpu_score = 0\n",
    "player_score = 0\n",
    "\n",
    "while True:\n",
    "    player = input(\"Rock, Paper, or Scissors? (Type 'End' to quit): \").upper()\n",
    "    \n",
    "    # Exit condition\n",
    "    if player.lower() == \"end\":\n",
    "        print(\"\\nFinal Scores:\")\n",
    "        print(f\"CPU: {cpu_score}\")\n",
    "        print(f\"Player: {player_score}\")\n",
    "        break\n",
    "\n",
    "    # Validate user input\n",
    "    if player not in choices:\n",
    "        print(\"Invalid choice! Please enter Rock, Paper, or Scissors.\")\n",
    "        continue  # Restart loop\n",
    "\n",
    "    # Computer makes a new choice every round\n",
    "    computer = random.choice(choices)\n",
    "\n",
    "    # 🖥️ Print what the computer chose\n",
    "    print(f\"Computer chose: {computer}\")\n",
    "\n",
    "    ## Conditions for Rock, Paper, and Scissors\n",
    "    if player == computer:\n",
    "        print(\"It's a Tie!\")\n",
    "    elif player == \"Rock\":\n",
    "        if computer == \"Paper\":\n",
    "            print(\"You lose!\", computer, \"covers\", player)\n",
    "            cpu_score += 1\n",
    "        else:\n",
    "            print(\"You win!\", player, \"smashes\", computer)\n",
    "            player_score += 1\n",
    "    elif player == \"Paper\":\n",
    "        if computer == \"Scissors\":\n",
    "            print(\"You lose!\", computer, \"cuts\", player)\n",
    "            cpu_score += 1\n",
    "        else:\n",
    "            print(\"You win!\", player, \"covers\", computer)\n",
    "            player_score += 1\n",
    "    elif player == \"Scissors\":\n",
    "        if computer == \"Rock\":\n",
    "            print(\"You lose...\", computer, \"smashes\", player)\n",
    "            cpu_score += 1\n",
    "        else:\n",
    "            print(\"You win!\", player, \"cuts\", computer)\n",
    "            player_score += 1\n"
   ]
  },
  {
   "cell_type": "code",
   "execution_count": null,
   "id": "18f28e67",
   "metadata": {},
   "outputs": [],
   "source": []
  }
 ],
 "metadata": {
  "kernelspec": {
   "display_name": "Python 3 (ipykernel)",
   "language": "python",
   "name": "python3"
  },
  "language_info": {
   "codemirror_mode": {
    "name": "ipython",
    "version": 3
   },
   "file_extension": ".py",
   "mimetype": "text/x-python",
   "name": "python",
   "nbconvert_exporter": "python",
   "pygments_lexer": "ipython3",
   "version": "3.9.18"
  },
  "varInspector": {
   "cols": {
    "lenName": 16,
    "lenType": 16,
    "lenVar": 40
   },
   "kernels_config": {
    "python": {
     "delete_cmd_postfix": "",
     "delete_cmd_prefix": "del ",
     "library": "var_list.py",
     "varRefreshCmd": "print(var_dic_list())"
    },
    "r": {
     "delete_cmd_postfix": ") ",
     "delete_cmd_prefix": "rm(",
     "library": "var_list.r",
     "varRefreshCmd": "cat(var_dic_list()) "
    }
   },
   "types_to_exclude": [
    "module",
    "function",
    "builtin_function_or_method",
    "instance",
    "_Feature"
   ],
   "window_display": false
  }
 },
 "nbformat": 4,
 "nbformat_minor": 5
}
